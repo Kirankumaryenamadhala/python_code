{
  "nbformat": 4,
  "nbformat_minor": 0,
  "metadata": {
    "colab": {
      "provenance": [],
      "authorship_tag": "ABX9TyPAdXg0f+B2XBV7P92opj9p",
      "include_colab_link": true
    },
    "kernelspec": {
      "name": "python3",
      "display_name": "Python 3"
    },
    "language_info": {
      "name": "python"
    }
  },
  "cells": [
    {
      "cell_type": "markdown",
      "metadata": {
        "id": "view-in-github",
        "colab_type": "text"
      },
      "source": [
        "<a href=\"https://colab.research.google.com/github/Kirankumaryenamadhala/python_code/blob/main/Assigning__Functions__to__Variables.ipynb\" target=\"_parent\"><img src=\"https://colab.research.google.com/assets/colab-badge.svg\" alt=\"Open In Colab\"/></a>"
      ]
    },
    {
      "cell_type": "code",
      "execution_count": 1,
      "metadata": {
        "colab": {
          "base_uri": "https://localhost:8080/"
        },
        "id": "QGdD9JuKMOQt",
        "outputId": "7ad6fdad-af65-492d-eb82-6feaaa0ac665"
      },
      "outputs": [
        {
          "output_type": "stream",
          "name": "stdout",
          "text": [
            "Hello, Anurag!\n"
          ]
        }
      ],
      "source": [
        "def msg(name):\n",
        "    return f\"Hello, {name}!\"\n",
        "\n",
        "# Assigning the function to a variable\n",
        "f = msg\n",
        "\n",
        "# Calling the function using the variable\n",
        "print(f(\"Anurag\"))"
      ]
    }
  ]
}