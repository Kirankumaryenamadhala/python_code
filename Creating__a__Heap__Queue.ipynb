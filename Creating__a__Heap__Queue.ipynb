{
  "nbformat": 4,
  "nbformat_minor": 0,
  "metadata": {
    "colab": {
      "provenance": [],
      "authorship_tag": "ABX9TyOLTowmtrC4ZJp2MogKcANi",
      "include_colab_link": true
    },
    "kernelspec": {
      "name": "python3",
      "display_name": "Python 3"
    },
    "language_info": {
      "name": "python"
    }
  },
  "cells": [
    {
      "cell_type": "markdown",
      "metadata": {
        "id": "view-in-github",
        "colab_type": "text"
      },
      "source": [
        "<a href=\"https://colab.research.google.com/github/Kirankumaryenamadhala/python_code/blob/main/Creating__a__Heap__Queue.ipynb\" target=\"_parent\"><img src=\"https://colab.research.google.com/assets/colab-badge.svg\" alt=\"Open In Colab\"/></a>"
      ]
    },
    {
      "cell_type": "code",
      "execution_count": 1,
      "metadata": {
        "colab": {
          "base_uri": "https://localhost:8080/"
        },
        "id": "4Owb7OiVUAm4",
        "outputId": "9c915966-4827-47bf-9e80-971c8e7196b7"
      },
      "outputs": [
        {
          "output_type": "stream",
          "name": "stdout",
          "text": [
            "Heap queue: [10, 20, 15, 30, 40]\n"
          ]
        }
      ],
      "source": [
        "import heapq\n",
        "\n",
        "# Creating a list\n",
        "li = [10, 20, 15, 30, 40]\n",
        "\n",
        "# Convert the list into a heap\n",
        "heapq.heapify(li)\n",
        "\n",
        "print(\"Heap queue:\", li)\n"
      ]
    }
  ]
}