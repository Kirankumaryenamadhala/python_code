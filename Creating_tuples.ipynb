{
  "nbformat": 4,
  "nbformat_minor": 0,
  "metadata": {
    "colab": {
      "provenance": [],
      "authorship_tag": "ABX9TyPGKb6xZvQGmIRaBu57bZSL",
      "include_colab_link": true
    },
    "kernelspec": {
      "name": "python3",
      "display_name": "Python 3"
    },
    "language_info": {
      "name": "python"
    }
  },
  "cells": [
    {
      "cell_type": "markdown",
      "metadata": {
        "id": "view-in-github",
        "colab_type": "text"
      },
      "source": [
        "<a href=\"https://colab.research.google.com/github/Kirankumaryenamadhala/python_code/blob/main/Creating_tuples.ipynb\" target=\"_parent\"><img src=\"https://colab.research.google.com/assets/colab-badge.svg\" alt=\"Open In Colab\"/></a>"
      ]
    },
    {
      "cell_type": "code",
      "execution_count": 1,
      "metadata": {
        "id": "vFxEnaPiDZOI",
        "outputId": "2b1b2d25-a67a-4ccb-c840-d9433bc1ee45",
        "colab": {
          "base_uri": "https://localhost:8080/"
        }
      },
      "outputs": [
        {
          "output_type": "stream",
          "name": "stdout",
          "text": [
            "()\n",
            "('Geeks', 'For')\n",
            "(1, 2, 4, 5, 6)\n",
            "('G', 'e', 'e', 'k', 's')\n"
          ]
        }
      ],
      "source": [
        "tup = ()\n",
        "print(tup)\n",
        "\n",
        "# Using String\n",
        "tup = ('Geeks', 'For')\n",
        "print(tup)\n",
        "\n",
        "# Using List\n",
        "li = [1, 2, 4, 5, 6]\n",
        "print(tuple(li))\n",
        "\n",
        "# Using Built-in Function\n",
        "tup = tuple('Geeks')\n",
        "print(tup)"
      ]
    }
  ]
}