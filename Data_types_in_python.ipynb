{
  "nbformat": 4,
  "nbformat_minor": 0,
  "metadata": {
    "colab": {
      "provenance": [],
      "authorship_tag": "ABX9TyOnGNjhC0sXOP9/UbLaJtSs",
      "include_colab_link": true
    },
    "kernelspec": {
      "name": "python3",
      "display_name": "Python 3"
    },
    "language_info": {
      "name": "python"
    }
  },
  "cells": [
    {
      "cell_type": "markdown",
      "metadata": {
        "id": "view-in-github",
        "colab_type": "text"
      },
      "source": [
        "<a href=\"https://colab.research.google.com/github/Kirankumaryenamadhala/python_code/blob/main/Data_types_in_python.ipynb\" target=\"_parent\"><img src=\"https://colab.research.google.com/assets/colab-badge.svg\" alt=\"Open In Colab\"/></a>"
      ]
    },
    {
      "cell_type": "code",
      "execution_count": 3,
      "metadata": {
        "id": "3o5UD5aMOg7e"
      },
      "outputs": [],
      "source": [
        "#  int, float, string, list and set\n",
        "x = 50\n",
        "x = 60.5\n",
        "x = \"Hello World\"\n",
        "x = [\"have\", \"a\", \"great day\"]\n",
        "x = (\"have\", \"a\", \"great day\")"
      ]
    }
  ]
}