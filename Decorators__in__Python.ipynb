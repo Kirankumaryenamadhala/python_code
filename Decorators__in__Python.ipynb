{
  "nbformat": 4,
  "nbformat_minor": 0,
  "metadata": {
    "colab": {
      "provenance": [],
      "authorship_tag": "ABX9TyP/7rgzwX4u5t6swQzeTEFD",
      "include_colab_link": true
    },
    "kernelspec": {
      "name": "python3",
      "display_name": "Python 3"
    },
    "language_info": {
      "name": "python"
    }
  },
  "cells": [
    {
      "cell_type": "markdown",
      "metadata": {
        "id": "view-in-github",
        "colab_type": "text"
      },
      "source": [
        "<a href=\"https://colab.research.google.com/github/Kirankumaryenamadhala/python_code/blob/main/Decorators__in__Python.ipynb\" target=\"_parent\"><img src=\"https://colab.research.google.com/assets/colab-badge.svg\" alt=\"Open In Colab\"/></a>"
      ]
    },
    {
      "cell_type": "code",
      "execution_count": 1,
      "metadata": {
        "colab": {
          "base_uri": "https://localhost:8080/"
        },
        "id": "xMwj90tmStuj",
        "outputId": "4be4a145-4e48-4d8e-9a4d-08226e636912"
      },
      "outputs": [
        {
          "output_type": "stream",
          "name": "stdout",
          "text": [
            "Before calling the function.\n",
            "Hello, World!\n",
            "After calling the function.\n"
          ]
        }
      ],
      "source": [
        "# A simple decorator function\n",
        "def decorator(func):\n",
        "\n",
        "    def wrapper():\n",
        "        print(\"Before calling the function.\")\n",
        "        func()\n",
        "        print(\"After calling the function.\")\n",
        "    return wrapper\n",
        "\n",
        "# Applying the decorator to a function\n",
        "@decorator\n",
        "\n",
        "def greet():\n",
        "    print(\"Hello, World!\")\n",
        "\n",
        "greet()\n"
      ]
    }
  ]
}