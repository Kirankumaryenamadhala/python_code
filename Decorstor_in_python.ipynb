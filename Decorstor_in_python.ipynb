{
  "nbformat": 4,
  "nbformat_minor": 0,
  "metadata": {
    "colab": {
      "provenance": [],
      "authorship_tag": "ABX9TyM7UzerJlRp0uwW5DyKx3Ky",
      "include_colab_link": true
    },
    "kernelspec": {
      "name": "python3",
      "display_name": "Python 3"
    },
    "language_info": {
      "name": "python"
    }
  },
  "cells": [
    {
      "cell_type": "markdown",
      "metadata": {
        "id": "view-in-github",
        "colab_type": "text"
      },
      "source": [
        "<a href=\"https://colab.research.google.com/github/Kirankumaryenamadhala/python_code/blob/main/Decorstor_in_python.ipynb\" target=\"_parent\"><img src=\"https://colab.research.google.com/assets/colab-badge.svg\" alt=\"Open In Colab\"/></a>"
      ]
    },
    {
      "cell_type": "code",
      "execution_count": 1,
      "metadata": {
        "colab": {
          "base_uri": "https://localhost:8080/"
        },
        "id": "YzDZOSltX3RE",
        "outputId": "c7668deb-33ee-4c50-bc83-b3573d5c2615"
      },
      "outputs": [
        {
          "output_type": "stream",
          "name": "stdout",
          "text": [
            "Before calling the function.\n",
            "Hello, World!\n",
            "After calling the function.\n"
          ]
        }
      ],
      "source": [
        "# A simple decorator function\n",
        "def decorator(func):\n",
        "\n",
        "    def wrapper():\n",
        "        print(\"Before calling the function.\")\n",
        "        func()\n",
        "        print(\"After calling the function.\")\n",
        "    return wrapper\n",
        "\n",
        "# Applying the decorator to a function\n",
        "@decorator\n",
        "\n",
        "def greet():\n",
        "    print(\"Hello, World!\")\n",
        "\n",
        "greet()"
      ]
    }
  ]
}