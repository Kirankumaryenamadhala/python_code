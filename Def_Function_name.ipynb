{
  "nbformat": 4,
  "nbformat_minor": 0,
  "metadata": {
    "colab": {
      "provenance": [],
      "authorship_tag": "ABX9TyOrIKrF3wrgv2CMkoUgNNEv",
      "include_colab_link": true
    },
    "kernelspec": {
      "name": "python3",
      "display_name": "Python 3"
    },
    "language_info": {
      "name": "python"
    }
  },
  "cells": [
    {
      "cell_type": "markdown",
      "metadata": {
        "id": "view-in-github",
        "colab_type": "text"
      },
      "source": [
        "<a href=\"https://colab.research.google.com/github/Kirankumaryenamadhala/python_code/blob/main/Def_Function_name.ipynb\" target=\"_parent\"><img src=\"https://colab.research.google.com/assets/colab-badge.svg\" alt=\"Open In Colab\"/></a>"
      ]
    },
    {
      "cell_type": "code",
      "execution_count": 1,
      "metadata": {
        "colab": {
          "base_uri": "https://localhost:8080/"
        },
        "id": "Hn3txAF2g-0J",
        "outputId": "57765bea-7706-4d7b-89fa-a467679ad063"
      },
      "outputs": [
        {
          "output_type": "stream",
          "name": "stdout",
          "text": [
            "Hello, Arjun!\n"
          ]
        }
      ],
      "source": [
        "def msg(name):\n",
        "    return f\"Hello, {name}!\"\n",
        "\n",
        "# Assigning the function to a variable\n",
        "f = msg\n",
        "\n",
        "# Calling the function using the variable\n",
        "print(f(\"Arjun\"))"
      ]
    }
  ]
}