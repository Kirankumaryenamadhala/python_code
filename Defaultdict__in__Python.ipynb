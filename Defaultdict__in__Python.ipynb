{
  "nbformat": 4,
  "nbformat_minor": 0,
  "metadata": {
    "colab": {
      "provenance": [],
      "authorship_tag": "ABX9TyOHIZf1vusdM8kxqkQBSnO2",
      "include_colab_link": true
    },
    "kernelspec": {
      "name": "python3",
      "display_name": "Python 3"
    },
    "language_info": {
      "name": "python"
    }
  },
  "cells": [
    {
      "cell_type": "markdown",
      "metadata": {
        "id": "view-in-github",
        "colab_type": "text"
      },
      "source": [
        "<a href=\"https://colab.research.google.com/github/Kirankumaryenamadhala/python_code/blob/main/Defaultdict__in__Python.ipynb\" target=\"_parent\"><img src=\"https://colab.research.google.com/assets/colab-badge.svg\" alt=\"Open In Colab\"/></a>"
      ]
    },
    {
      "cell_type": "code",
      "execution_count": 1,
      "metadata": {
        "colab": {
          "base_uri": "https://localhost:8080/"
        },
        "id": "K580WiBBm1bD",
        "outputId": "bc2747f9-46dd-4d8d-fb37-5cb1ff05a771"
      },
      "outputs": [
        {
          "output_type": "stream",
          "name": "stdout",
          "text": [
            "defaultdict(<class 'list'>, {'fruits': ['apple'], 'vegetables': ['carrot']})\n",
            "[]\n"
          ]
        }
      ],
      "source": [
        "from collections import defaultdict\n",
        "\n",
        "# Create a defaultdict with a default\n",
        "# value of an empty list\n",
        "d = defaultdict(list)\n",
        "\n",
        "# Add elements to the defaultdict and print it\n",
        "d['fruits'].append('apple')\n",
        "d['vegetables'].append('carrot')\n",
        "print(d)\n",
        "\n",
        "# No key error raised here and an empty list\n",
        "# is printed\n",
        "print(d['juices'])\n"
      ]
    }
  ]
}