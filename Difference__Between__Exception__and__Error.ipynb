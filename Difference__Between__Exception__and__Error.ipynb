{
  "nbformat": 4,
  "nbformat_minor": 0,
  "metadata": {
    "colab": {
      "provenance": [],
      "authorship_tag": "ABX9TyMG/lBpLsoYgiSqZTgy4Uab",
      "include_colab_link": true
    },
    "kernelspec": {
      "name": "python3",
      "display_name": "Python 3"
    },
    "language_info": {
      "name": "python"
    }
  },
  "cells": [
    {
      "cell_type": "markdown",
      "metadata": {
        "id": "view-in-github",
        "colab_type": "text"
      },
      "source": [
        "<a href=\"https://colab.research.google.com/github/Kirankumaryenamadhala/python_code/blob/main/Difference__Between__Exception__and__Error.ipynb\" target=\"_parent\"><img src=\"https://colab.research.google.com/assets/colab-badge.svg\" alt=\"Open In Colab\"/></a>"
      ]
    },
    {
      "cell_type": "code",
      "execution_count": 1,
      "metadata": {
        "colab": {
          "base_uri": "https://localhost:8080/"
        },
        "id": "nDEtUUVu_pRU",
        "outputId": "dfa15af7-e26b-4910-c434-aaca2aa2ed78"
      },
      "outputs": [
        {
          "output_type": "stream",
          "name": "stdout",
          "text": [
            "You can't divide by zero!\n",
            "Execution complete.\n"
          ]
        }
      ],
      "source": [
        "try:\n",
        "    n = 0\n",
        "    res = 100 / n\n",
        "\n",
        "except ZeroDivisionError:\n",
        "    print(\"You can't divide by zero!\")\n",
        "\n",
        "except ValueError:\n",
        "    print(\"Enter a valid number!\")\n",
        "\n",
        "else:\n",
        "    print(\"Result is\", res)\n",
        "\n",
        "finally:\n",
        "    print(\"Execution complete.\")\n"
      ]
    }
  ]
}