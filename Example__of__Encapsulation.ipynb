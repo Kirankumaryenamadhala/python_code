{
  "nbformat": 4,
  "nbformat_minor": 0,
  "metadata": {
    "colab": {
      "provenance": [],
      "authorship_tag": "ABX9TyOyZ3IiSmefx4ZbMhHAUofY",
      "include_colab_link": true
    },
    "kernelspec": {
      "name": "python3",
      "display_name": "Python 3"
    },
    "language_info": {
      "name": "python"
    }
  },
  "cells": [
    {
      "cell_type": "markdown",
      "metadata": {
        "id": "view-in-github",
        "colab_type": "text"
      },
      "source": [
        "<a href=\"https://colab.research.google.com/github/Kirankumaryenamadhala/python_code/blob/main/Example__of__Encapsulation.ipynb\" target=\"_parent\"><img src=\"https://colab.research.google.com/assets/colab-badge.svg\" alt=\"Open In Colab\"/></a>"
      ]
    },
    {
      "cell_type": "code",
      "execution_count": 1,
      "metadata": {
        "colab": {
          "base_uri": "https://localhost:8080/"
        },
        "id": "sXAl6AQTd7dL",
        "outputId": "7630a2d9-411b-48fc-8c3a-01c15cfbb73b"
      },
      "outputs": [
        {
          "output_type": "stream",
          "name": "stdout",
          "text": [
            "John\n",
            "John\n"
          ]
        }
      ],
      "source": [
        "class Public:\n",
        "    def __init__(self):\n",
        "        self.name = \"John\"  # Public attribute\n",
        "\n",
        "    def display_name(self):\n",
        "        print(self.name)  # Public method\n",
        "\n",
        "obj = Public()\n",
        "obj.display_name()  # Accessible\n",
        "print(obj.name)  # Accessible\n"
      ]
    }
  ]
}