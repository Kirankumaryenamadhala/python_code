{
  "nbformat": 4,
  "nbformat_minor": 0,
  "metadata": {
    "colab": {
      "provenance": [],
      "authorship_tag": "ABX9TyPBOkoAr34NxyWvUkVXE/UH",
      "include_colab_link": true
    },
    "kernelspec": {
      "name": "python3",
      "display_name": "Python 3"
    },
    "language_info": {
      "name": "python"
    }
  },
  "cells": [
    {
      "cell_type": "markdown",
      "metadata": {
        "id": "view-in-github",
        "colab_type": "text"
      },
      "source": [
        "<a href=\"https://colab.research.google.com/github/Kirankumaryenamadhala/python_code/blob/main/Example__with__List_%2C_Tuple%2C__String%2C__and__Dictionary__Iteration__Using__for__Loops__in__Python.ipynb\" target=\"_parent\"><img src=\"https://colab.research.google.com/assets/colab-badge.svg\" alt=\"Open In Colab\"/></a>"
      ]
    },
    {
      "cell_type": "code",
      "execution_count": 1,
      "metadata": {
        "colab": {
          "base_uri": "https://localhost:8080/"
        },
        "id": "aTNhjUpaYCxe",
        "outputId": "49dcaa0f-16cc-43be-f233-f137048c2327"
      },
      "outputs": [
        {
          "output_type": "stream",
          "name": "stdout",
          "text": [
            "geeks\n",
            "for\n",
            "geeks\n",
            "geeks\n",
            "for\n",
            "geeks\n",
            "G\n",
            "e\n",
            "e\n",
            "k\n",
            "s\n",
            "x  123\n",
            "y  354\n",
            "1\n",
            "2\n",
            "3\n",
            "4\n",
            "5\n",
            "6\n"
          ]
        }
      ],
      "source": [
        "li = [\"geeks\", \"for\", \"geeks\"]\n",
        "for i in li:\n",
        "    print(i)\n",
        "\n",
        "tup = (\"geeks\", \"for\", \"geeks\")\n",
        "for i in tup:\n",
        "    print(i)\n",
        "\n",
        "s = \"Geeks\"\n",
        "for i in s:\n",
        "    print(i)\n",
        "\n",
        "d = dict({'x':123, 'y':354})\n",
        "for i in d:\n",
        "    print(\"%s  %d\" % (i, d[i]))\n",
        "\n",
        "set1 = {1, 2, 3, 4, 5, 6}\n",
        "for i in set1:\n",
        "    print(i),\n"
      ]
    }
  ]
}