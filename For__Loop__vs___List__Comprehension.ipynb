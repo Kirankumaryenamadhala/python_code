{
  "nbformat": 4,
  "nbformat_minor": 0,
  "metadata": {
    "colab": {
      "provenance": [],
      "authorship_tag": "ABX9TyOasm+n4pJZosajk5fsCSAF",
      "include_colab_link": true
    },
    "kernelspec": {
      "name": "python3",
      "display_name": "Python 3"
    },
    "language_info": {
      "name": "python"
    }
  },
  "cells": [
    {
      "cell_type": "markdown",
      "metadata": {
        "id": "view-in-github",
        "colab_type": "text"
      },
      "source": [
        "<a href=\"https://colab.research.google.com/github/Kirankumaryenamadhala/python_code/blob/main/For__Loop__vs___List__Comprehension.ipynb\" target=\"_parent\"><img src=\"https://colab.research.google.com/assets/colab-badge.svg\" alt=\"Open In Colab\"/></a>"
      ]
    },
    {
      "cell_type": "code",
      "execution_count": 1,
      "metadata": {
        "colab": {
          "base_uri": "https://localhost:8080/"
        },
        "id": "AV-G_fzC0hGe",
        "outputId": "8a152a93-ceb6-4d55-c065-a7a3a7790387"
      },
      "outputs": [
        {
          "output_type": "stream",
          "name": "stdout",
          "text": [
            "[2, 4, 6, 8, 10]\n"
          ]
        }
      ],
      "source": [
        "a = [1, 2, 3, 4, 5]\n",
        "\n",
        "# Create an empty list 'res' to store results\n",
        "res = []\n",
        "\n",
        "# Iterate over each element in list 'a'\n",
        "for val in a:\n",
        "\n",
        "    # Multiply each element by 2 and append it to 'res'\n",
        "    res.append(val * 2)\n",
        "\n",
        "print(res)"
      ]
    }
  ]
}