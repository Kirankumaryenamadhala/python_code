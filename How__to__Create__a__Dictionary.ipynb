{
  "nbformat": 4,
  "nbformat_minor": 0,
  "metadata": {
    "colab": {
      "provenance": [],
      "authorship_tag": "ABX9TyMlx8IlVGq6hEJA7/euoHE/",
      "include_colab_link": true
    },
    "kernelspec": {
      "name": "python3",
      "display_name": "Python 3"
    },
    "language_info": {
      "name": "python"
    }
  },
  "cells": [
    {
      "cell_type": "markdown",
      "metadata": {
        "id": "view-in-github",
        "colab_type": "text"
      },
      "source": [
        "<a href=\"https://colab.research.google.com/github/Kirankumaryenamadhala/python_code/blob/main/How__to__Create__a__Dictionary.ipynb\" target=\"_parent\"><img src=\"https://colab.research.google.com/assets/colab-badge.svg\" alt=\"Open In Colab\"/></a>"
      ]
    },
    {
      "cell_type": "code",
      "execution_count": 1,
      "metadata": {
        "colab": {
          "base_uri": "https://localhost:8080/"
        },
        "id": "MJ111ez2cYAd",
        "outputId": "bd3a0e9c-84df-4a02-ff39-aee593b9ea71"
      },
      "outputs": [
        {
          "output_type": "stream",
          "name": "stdout",
          "text": [
            "{1: 'Geeks', 2: 'For', 3: 'Geeks'}\n",
            "{'a': 'Geeks', 'b': 'for', 'c': 'Geeks'}\n"
          ]
        }
      ],
      "source": [
        "d1 = {1: 'Geeks', 2: 'For', 3: 'Geeks'}\n",
        "print(d1)\n",
        "\n",
        "# create dictionary using dict() constructor\n",
        "d2 = dict(a = \"Geeks\", b = \"for\", c = \"Geeks\")\n",
        "print(d2)"
      ]
    }
  ]
}