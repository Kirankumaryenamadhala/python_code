{
  "nbformat": 4,
  "nbformat_minor": 0,
  "metadata": {
    "colab": {
      "provenance": [],
      "authorship_tag": "ABX9TyP3ZWqQVmNwK5YRZBRo53HS",
      "include_colab_link": true
    },
    "kernelspec": {
      "name": "python3",
      "display_name": "Python 3"
    },
    "language_info": {
      "name": "python"
    }
  },
  "cells": [
    {
      "cell_type": "markdown",
      "metadata": {
        "id": "view-in-github",
        "colab_type": "text"
      },
      "source": [
        "<a href=\"https://colab.research.google.com/github/Kirankumaryenamadhala/python_code/blob/main/List_data_type.ipynb\" target=\"_parent\"><img src=\"https://colab.research.google.com/assets/colab-badge.svg\" alt=\"Open In Colab\"/></a>"
      ]
    },
    {
      "cell_type": "code",
      "execution_count": 1,
      "metadata": {
        "id": "BnSiU3VfeG0Z",
        "outputId": "65604ccf-128a-47b6-87d8-ab7f0c7c5f61",
        "colab": {
          "base_uri": "https://localhost:8080/"
        }
      },
      "outputs": [
        {
          "output_type": "stream",
          "name": "stdout",
          "text": [
            "[1, 2, 3]\n",
            "['Geeks', 'For', 'Geeks', 4, 5]\n"
          ]
        }
      ],
      "source": [
        "# Empty list\n",
        "a = []\n",
        "\n",
        "# list with int values\n",
        "a = [1, 2, 3]\n",
        "print(a)\n",
        "\n",
        "# list with mixed int and string\n",
        "b = [\"Geeks\", \"For\", \"Geeks\", 4, 5]\n",
        "print(b)"
      ]
    }
  ]
}