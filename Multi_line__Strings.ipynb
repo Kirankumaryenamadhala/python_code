{
  "nbformat": 4,
  "nbformat_minor": 0,
  "metadata": {
    "colab": {
      "provenance": [],
      "authorship_tag": "ABX9TyOSbAKWK0MnqI4H4qaTEKdp",
      "include_colab_link": true
    },
    "kernelspec": {
      "name": "python3",
      "display_name": "Python 3"
    },
    "language_info": {
      "name": "python"
    }
  },
  "cells": [
    {
      "cell_type": "markdown",
      "metadata": {
        "id": "view-in-github",
        "colab_type": "text"
      },
      "source": [
        "<a href=\"https://colab.research.google.com/github/Kirankumaryenamadhala/python_code/blob/main/Multi_line__Strings.ipynb\" target=\"_parent\"><img src=\"https://colab.research.google.com/assets/colab-badge.svg\" alt=\"Open In Colab\"/></a>"
      ]
    },
    {
      "cell_type": "code",
      "execution_count": 1,
      "metadata": {
        "colab": {
          "base_uri": "https://localhost:8080/"
        },
        "id": "8UvVRp27Zbjm",
        "outputId": "6e69f870-ce85-4e3e-fc8d-ee12a570f625"
      },
      "outputs": [
        {
          "output_type": "stream",
          "name": "stdout",
          "text": [
            "I am Learning\n",
            "Python String on GeeksforGeeks\n",
            "I'm a \n",
            "Geek\n"
          ]
        }
      ],
      "source": [
        "s = \"\"\"I am Learning\n",
        "Python String on GeeksforGeeks\"\"\"\n",
        "print(s)\n",
        "\n",
        "s = '''I'm a\n",
        "Geek'''\n",
        "print(s)\n"
      ]
    }
  ]
}