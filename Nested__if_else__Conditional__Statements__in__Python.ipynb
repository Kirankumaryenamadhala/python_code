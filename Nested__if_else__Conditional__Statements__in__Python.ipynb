{
  "nbformat": 4,
  "nbformat_minor": 0,
  "metadata": {
    "colab": {
      "provenance": [],
      "authorship_tag": "ABX9TyPRxmEacTGnQuAn0BC8efD9",
      "include_colab_link": true
    },
    "kernelspec": {
      "name": "python3",
      "display_name": "Python 3"
    },
    "language_info": {
      "name": "python"
    }
  },
  "cells": [
    {
      "cell_type": "markdown",
      "metadata": {
        "id": "view-in-github",
        "colab_type": "text"
      },
      "source": [
        "<a href=\"https://colab.research.google.com/github/Kirankumaryenamadhala/python_code/blob/main/Nested__if_else__Conditional__Statements__in__Python.ipynb\" target=\"_parent\"><img src=\"https://colab.research.google.com/assets/colab-badge.svg\" alt=\"Open In Colab\"/></a>"
      ]
    },
    {
      "cell_type": "code",
      "execution_count": 1,
      "metadata": {
        "colab": {
          "base_uri": "https://localhost:8080/"
        },
        "id": "VAFUm1bDtlXM",
        "outputId": "cd7fbe40-7e0c-43ad-d52c-05eae768bb0c"
      },
      "outputs": [
        {
          "output_type": "stream",
          "name": "stdout",
          "text": [
            "30% senior discount!\n"
          ]
        }
      ],
      "source": [
        "age = 70\n",
        "is_member = True\n",
        "\n",
        "if age >= 60:\n",
        "    if is_member:\n",
        "        print(\"30% senior discount!\")\n",
        "    else:\n",
        "        print(\"20% senior discount.\")\n",
        "else:\n",
        "    print(\"Not eligible for a senior discount.\")\n"
      ]
    }
  ]
}