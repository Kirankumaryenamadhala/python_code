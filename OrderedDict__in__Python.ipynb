{
  "nbformat": 4,
  "nbformat_minor": 0,
  "metadata": {
    "colab": {
      "provenance": [],
      "authorship_tag": "ABX9TyPH2gJuojWRYCvIPi1rufGo",
      "include_colab_link": true
    },
    "kernelspec": {
      "name": "python3",
      "display_name": "Python 3"
    },
    "language_info": {
      "name": "python"
    }
  },
  "cells": [
    {
      "cell_type": "markdown",
      "metadata": {
        "id": "view-in-github",
        "colab_type": "text"
      },
      "source": [
        "<a href=\"https://colab.research.google.com/github/Kirankumaryenamadhala/python_code/blob/main/OrderedDict__in__Python.ipynb\" target=\"_parent\"><img src=\"https://colab.research.google.com/assets/colab-badge.svg\" alt=\"Open In Colab\"/></a>"
      ]
    },
    {
      "cell_type": "code",
      "execution_count": 1,
      "metadata": {
        "colab": {
          "base_uri": "https://localhost:8080/"
        },
        "id": "gHv5bThjCW6a",
        "outputId": "721b8aec-533e-4c1d-b031-141b67403dba"
      },
      "outputs": [
        {
          "output_type": "stream",
          "name": "stdout",
          "text": [
            "This is a Dict:\n",
            "\n",
            "a 1\n",
            "b 2\n",
            "c 3\n",
            "d 4\n",
            "\n",
            "This is an Ordered Dict:\n",
            "\n",
            "a 1\n",
            "b 2\n",
            "c 3\n",
            "d 4\n"
          ]
        }
      ],
      "source": [
        "# A Python program to demonstrate working of OrderedDict\n",
        "from collections import OrderedDict\n",
        "\n",
        "print(\"This is a Dict:\\n\")\n",
        "d = {}\n",
        "d['a'] = 1\n",
        "d['b'] = 2\n",
        "d['c'] = 3\n",
        "d['d'] = 4\n",
        "\n",
        "for key, value in d.items():\n",
        "    print(key, value)\n",
        "\n",
        "print(\"\\nThis is an Ordered Dict:\\n\")\n",
        "od = OrderedDict()\n",
        "od['a'] = 1\n",
        "od['b'] = 2\n",
        "od['c'] = 3\n",
        "od['d'] = 4\n",
        "\n",
        "for key, value in od.items():\n",
        "    print(key, value)\n"
      ]
    }
  ]
}