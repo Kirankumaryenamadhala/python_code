{
  "nbformat": 4,
  "nbformat_minor": 0,
  "metadata": {
    "colab": {
      "provenance": [],
      "authorship_tag": "ABX9TyPV0KxxULmp719k2EgcwU5m",
      "include_colab_link": true
    },
    "kernelspec": {
      "name": "python3",
      "display_name": "Python 3"
    },
    "language_info": {
      "name": "python"
    }
  },
  "cells": [
    {
      "cell_type": "markdown",
      "metadata": {
        "id": "view-in-github",
        "colab_type": "text"
      },
      "source": [
        "<a href=\"https://colab.research.google.com/github/Kirankumaryenamadhala/python_code/blob/main/OrderedDict__vs__dict__in__Python.ipynb\" target=\"_parent\"><img src=\"https://colab.research.google.com/assets/colab-badge.svg\" alt=\"Open In Colab\"/></a>"
      ]
    },
    {
      "cell_type": "code",
      "execution_count": 1,
      "metadata": {
        "colab": {
          "base_uri": "https://localhost:8080/"
        },
        "id": "b9yk5SboT2s0",
        "outputId": "d67c4124-804d-485a-c146-5c495ee5f0f4"
      },
      "outputs": [
        {
          "output_type": "stream",
          "name": "stdout",
          "text": [
            "dict\n",
            "a 1\n",
            "b 2\n",
            "c 3\n",
            "d 4\n",
            "ordered dict\n",
            "d 4\n",
            "b 2\n",
            "a 1\n",
            "c 3\n"
          ]
        }
      ],
      "source": [
        "from collections import OrderedDict\n",
        "\n",
        "print(\"dict\")\n",
        "d = {}\n",
        "d['a'] = 1\n",
        "d['b'] = 2\n",
        "d['c'] = 3\n",
        "d['d'] = 4\n",
        "\n",
        "for key, value in d.items():\n",
        "    print(key, value)\n",
        "\n",
        "print(\"ordered dict\")\n",
        "od = OrderedDict()\n",
        "od['d'] = 4\n",
        "od['b'] = 2\n",
        "od['a'] = 1\n",
        "od['c'] = 3\n",
        "\n",
        "for key, value in od.items():\n",
        "    print(key, value)"
      ]
    }
  ]
}