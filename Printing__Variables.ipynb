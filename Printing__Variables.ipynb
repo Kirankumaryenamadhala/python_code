{
  "nbformat": 4,
  "nbformat_minor": 0,
  "metadata": {
    "colab": {
      "provenance": [],
      "authorship_tag": "ABX9TyNkQo9CX0BTwEI9fLVKnVSY",
      "include_colab_link": true
    },
    "kernelspec": {
      "name": "python3",
      "display_name": "Python 3"
    },
    "language_info": {
      "name": "python"
    }
  },
  "cells": [
    {
      "cell_type": "markdown",
      "metadata": {
        "id": "view-in-github",
        "colab_type": "text"
      },
      "source": [
        "<a href=\"https://colab.research.google.com/github/Kirankumaryenamadhala/python_code/blob/main/Printing__Variables.ipynb\" target=\"_parent\"><img src=\"https://colab.research.google.com/assets/colab-badge.svg\" alt=\"Open In Colab\"/></a>"
      ]
    },
    {
      "cell_type": "code",
      "execution_count": 1,
      "metadata": {
        "colab": {
          "base_uri": "https://localhost:8080/"
        },
        "id": "2Geib-MZDEGV",
        "outputId": "65e593cd-32bc-43d7-b8c8-81961a8be83b"
      },
      "outputs": [
        {
          "output_type": "stream",
          "name": "stdout",
          "text": [
            "Bob\n",
            "Alice 25 New York\n"
          ]
        }
      ],
      "source": [
        "# Single variable\n",
        "s = \"Bob\"\n",
        "print(s)\n",
        "\n",
        "# Multiple Variables\n",
        "s = \"Alice\"\n",
        "age = 25\n",
        "city = \"New York\"\n",
        "print(s, age, city)"
      ]
    }
  ]
}