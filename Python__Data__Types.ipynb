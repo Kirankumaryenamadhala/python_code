{
  "nbformat": 4,
  "nbformat_minor": 0,
  "metadata": {
    "colab": {
      "provenance": [],
      "authorship_tag": "ABX9TyPSKAFS399JXJQOX/J8P1bD",
      "include_colab_link": true
    },
    "kernelspec": {
      "name": "python3",
      "display_name": "Python 3"
    },
    "language_info": {
      "name": "python"
    }
  },
  "cells": [
    {
      "cell_type": "markdown",
      "metadata": {
        "id": "view-in-github",
        "colab_type": "text"
      },
      "source": [
        "<a href=\"https://colab.research.google.com/github/Kirankumaryenamadhala/python_code/blob/main/Python__Data__Types.ipynb\" target=\"_parent\"><img src=\"https://colab.research.google.com/assets/colab-badge.svg\" alt=\"Open In Colab\"/></a>"
      ]
    },
    {
      "cell_type": "code",
      "execution_count": 1,
      "metadata": {
        "id": "b3H1Y-t3XIiL"
      },
      "outputs": [],
      "source": [
        "#  int, float, string, list and set\n",
        "x = 50\n",
        "x = 60.5\n",
        "x = \"Hello World\"\n",
        "x = [\"geeks\", \"for\", \"geeks\"]\n",
        "x = (\"geeks\", \"for\", \"geeks\")"
      ]
    }
  ]
}