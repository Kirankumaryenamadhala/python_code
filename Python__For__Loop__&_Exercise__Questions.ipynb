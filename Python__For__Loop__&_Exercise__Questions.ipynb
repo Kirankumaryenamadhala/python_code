{
  "nbformat": 4,
  "nbformat_minor": 0,
  "metadata": {
    "colab": {
      "provenance": [],
      "authorship_tag": "ABX9TyPGVhnGq39p3Y/7x5hkG/B3",
      "include_colab_link": true
    },
    "kernelspec": {
      "name": "python3",
      "display_name": "Python 3"
    },
    "language_info": {
      "name": "python"
    }
  },
  "cells": [
    {
      "cell_type": "markdown",
      "metadata": {
        "id": "view-in-github",
        "colab_type": "text"
      },
      "source": [
        "<a href=\"https://colab.research.google.com/github/Kirankumaryenamadhala/python_code/blob/main/Python__For__Loop__%26_Exercise__Questions.ipynb\" target=\"_parent\"><img src=\"https://colab.research.google.com/assets/colab-badge.svg\" alt=\"Open In Colab\"/></a>"
      ]
    },
    {
      "cell_type": "code",
      "execution_count": 1,
      "metadata": {
        "colab": {
          "base_uri": "https://localhost:8080/"
        },
        "id": "mKkiUDK4Nijg",
        "outputId": "d6ba1bd5-9f0d-4775-feff-5c37dda10f26"
      },
      "outputs": [
        {
          "output_type": "stream",
          "name": "stdout",
          "text": [
            "Washing shirt\n",
            "Washing pants\n",
            "Washing towel\n",
            "Washing ['socks']\n"
          ]
        }
      ],
      "source": [
        "a = [\"shirt\", \"sock\", \"pants\", \"sock\", \"towel\"]\n",
        "b = []\n",
        "for i in a:\n",
        "    if i == \"sock\":\n",
        "        continue\n",
        "    else:\n",
        "        print(f\"Washing {i}\")\n",
        "b.append(\"socks\")\n",
        "print(f\"Washing {b}\")"
      ]
    }
  ]
}