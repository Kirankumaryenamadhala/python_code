{
  "nbformat": 4,
  "nbformat_minor": 0,
  "metadata": {
    "colab": {
      "provenance": [],
      "authorship_tag": "ABX9TyNEDUmxhTFgWjDHOBfU7+e0",
      "include_colab_link": true
    },
    "kernelspec": {
      "name": "python3",
      "display_name": "Python 3"
    },
    "language_info": {
      "name": "python"
    }
  },
  "cells": [
    {
      "cell_type": "markdown",
      "metadata": {
        "id": "view-in-github",
        "colab_type": "text"
      },
      "source": [
        "<a href=\"https://colab.research.google.com/github/Kirankumaryenamadhala/python_code/blob/main/Python__Lists.ipynb\" target=\"_parent\"><img src=\"https://colab.research.google.com/assets/colab-badge.svg\" alt=\"Open In Colab\"/></a>"
      ]
    },
    {
      "cell_type": "code",
      "execution_count": 1,
      "metadata": {
        "colab": {
          "base_uri": "https://localhost:8080/"
        },
        "id": "B3ZO5PdmsMlN",
        "outputId": "d860c277-2b6c-4e72-e7cf-1440a2950260"
      },
      "outputs": [
        {
          "output_type": "stream",
          "name": "stdout",
          "text": [
            "[10, 20, 'GfG', 40, True]\n",
            "10\n",
            "20\n",
            "GfG\n",
            "40\n",
            "True\n",
            "<class 'str'>\n",
            "<class 'bool'>\n"
          ]
        }
      ],
      "source": [
        "# Creating a Python list with different data types\n",
        "a = [10, 20, \"GfG\", 40, True]\n",
        "\n",
        "print(a)\n",
        "\n",
        "# Accessing elements using indexing\n",
        "print(a[0])  # 10\n",
        "print(a[1])  # 20\n",
        "print(a[2])  # \"GfG\"\n",
        "print(a[3])  # 40\n",
        "print(a[4])  # True\n",
        "\n",
        "# Checking types of elements\n",
        "print(type(a[2]))  # str\n",
        "print(type(a[4]))  # bool\n"
      ]
    }
  ]
}