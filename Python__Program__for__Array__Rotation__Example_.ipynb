{
  "nbformat": 4,
  "nbformat_minor": 0,
  "metadata": {
    "colab": {
      "provenance": [],
      "authorship_tag": "ABX9TyPrX7Bg0fdLKK2x/ovEGhhf",
      "include_colab_link": true
    },
    "kernelspec": {
      "name": "python3",
      "display_name": "Python 3"
    },
    "language_info": {
      "name": "python"
    }
  },
  "cells": [
    {
      "cell_type": "markdown",
      "metadata": {
        "id": "view-in-github",
        "colab_type": "text"
      },
      "source": [
        "<a href=\"https://colab.research.google.com/github/Kirankumaryenamadhala/python_code/blob/main/Python__Program__for__Array__Rotation__Example_.ipynb\" target=\"_parent\"><img src=\"https://colab.research.google.com/assets/colab-badge.svg\" alt=\"Open In Colab\"/></a>"
      ]
    },
    {
      "cell_type": "code",
      "execution_count": 1,
      "metadata": {
        "colab": {
          "base_uri": "https://localhost:8080/"
        },
        "id": "-ZQgBP-w6t62",
        "outputId": "e4f7ada5-a400-40cf-a7e2-b833a7f5d70c"
      },
      "outputs": [
        {
          "output_type": "stream",
          "name": "stdout",
          "text": [
            "Original array: [1, 2, 3, 4, 5, 6, 7, 8]\n",
            "Rotated array:  [2, 3, 4, 5, 6, 7, 8, 1]\n"
          ]
        }
      ],
      "source": [
        "# Python program to left-rotate the given array\n",
        "\n",
        "# Function reverse the given array\n",
        "# by swapping first and last numbers.\n",
        "\n",
        "\n",
        "def reverse(start, end, arr):\n",
        "\n",
        "\t# No of iterations needed for reversing the list\n",
        "\tno_of_reverse = end-start+1\n",
        "\n",
        "\t# By incrementing count value swapping\n",
        "\t# of first and last elements is done.\n",
        "\tcount = 0\n",
        "\twhile((no_of_reverse)//2 != count):\n",
        "\t\tarr[start+count], arr[end-count] = arr[end-count], arr[start+count]\n",
        "\t\tcount += 1\n",
        "\treturn arr\n",
        "\n",
        "# Function takes array, length of\n",
        "# array and no of rotations as input\n",
        "\n",
        "\n",
        "def left_rotate_array(arr, size, d):\n",
        "\n",
        "\t# Reverse the Entire List\n",
        "\tstart = 0\n",
        "\tend = size-1\n",
        "\tarr = reverse(start, end, arr)\n",
        "\n",
        "\t# Divide array into twosub-array\n",
        "\t# based on no of rotations.\n",
        "\t# Divide First sub-array\n",
        "\t# Reverse the First sub-array\n",
        "\tstart = 0\n",
        "\tend = size-d-1\n",
        "\tarr = reverse(start, end, arr)\n",
        "\n",
        "\t# Divide Second sub-array\n",
        "\t# Reverse the Second sub-array\n",
        "\tstart = size-d\n",
        "\tend = size-1\n",
        "\tarr = reverse(start, end, arr)\n",
        "\treturn arr\n",
        "\n",
        "\n",
        "arr = [1, 2, 3, 4, 5, 6, 7, 8]\n",
        "size = 8\n",
        "d = 1\n",
        "print('Original array:', arr)\n",
        "\n",
        "# Finding all the symmetric rotation number\n",
        "if(d <= size):\n",
        "\tprint('Rotated array: ', left_rotate_array(arr, size, d))\n",
        "else:\n",
        "\td = d % size\n",
        "\tprint('Rotated array: ', left_rotate_array(arr, size, d))\n",
        "\n",
        "# This code contributed by SR.Dhanush\n"
      ]
    }
  ]
}