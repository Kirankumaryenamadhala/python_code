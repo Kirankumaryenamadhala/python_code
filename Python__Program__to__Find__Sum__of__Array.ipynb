{
  "nbformat": 4,
  "nbformat_minor": 0,
  "metadata": {
    "colab": {
      "provenance": [],
      "authorship_tag": "ABX9TyNSFaw7UiORfAXEYouZj40o",
      "include_colab_link": true
    },
    "kernelspec": {
      "name": "python3",
      "display_name": "Python 3"
    },
    "language_info": {
      "name": "python"
    }
  },
  "cells": [
    {
      "cell_type": "markdown",
      "metadata": {
        "id": "view-in-github",
        "colab_type": "text"
      },
      "source": [
        "<a href=\"https://colab.research.google.com/github/Kirankumaryenamadhala/python_code/blob/main/Python__Program__to__Find__Sum__of__Array.ipynb\" target=\"_parent\"><img src=\"https://colab.research.google.com/assets/colab-badge.svg\" alt=\"Open In Colab\"/></a>"
      ]
    },
    {
      "cell_type": "code",
      "execution_count": 1,
      "metadata": {
        "colab": {
          "base_uri": "https://localhost:8080/"
        },
        "id": "P-BhjJBPGlfd",
        "outputId": "977fb486-5392-46f0-ddf6-1d0221391389"
      },
      "outputs": [
        {
          "output_type": "stream",
          "name": "stdout",
          "text": [
            "Sum of the array is  34\n"
          ]
        }
      ],
      "source": [
        "# Python 3 code to find sum\n",
        "# of elements in given array\n",
        "\n",
        "\n",
        "def _sum(arr):\n",
        "\n",
        "\t# initialize a variable\n",
        "\t# to store the sum\n",
        "\t# while iterating through\n",
        "\t# the array later\n",
        "\tsum = 0\n",
        "\n",
        "\t# iterate through the array\n",
        "\t# and add each element to the sum variable\n",
        "\t# one at a time\n",
        "\tfor i in arr:\n",
        "\t\tsum = sum + i\n",
        "\n",
        "\treturn(sum)\n",
        "\n",
        "\n",
        "# main function\n",
        "if __name__ == \"__main__\":\n",
        "\t# input values to list\n",
        "\tarr = [12, 3, 4, 15]\n",
        "\n",
        "\t# calculating length of array\n",
        "\tn = len(arr)\n",
        "\t# calling function ans store the sum in ans\n",
        "\tans = _sum(arr)\n",
        "\t# display sum\n",
        "\tprint('Sum of the array is ', ans)\n"
      ]
    }
  ]
}