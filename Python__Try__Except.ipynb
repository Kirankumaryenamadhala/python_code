{
  "nbformat": 4,
  "nbformat_minor": 0,
  "metadata": {
    "colab": {
      "provenance": [],
      "authorship_tag": "ABX9TyNMDfhaoLzFOTPxKVdiq/bI",
      "include_colab_link": true
    },
    "kernelspec": {
      "name": "python3",
      "display_name": "Python 3"
    },
    "language_info": {
      "name": "python"
    }
  },
  "cells": [
    {
      "cell_type": "markdown",
      "metadata": {
        "id": "view-in-github",
        "colab_type": "text"
      },
      "source": [
        "<a href=\"https://colab.research.google.com/github/Kirankumaryenamadhala/python_code/blob/main/Python__Try__Except.ipynb\" target=\"_parent\"><img src=\"https://colab.research.google.com/assets/colab-badge.svg\" alt=\"Open In Colab\"/></a>"
      ]
    },
    {
      "cell_type": "code",
      "execution_count": 1,
      "metadata": {
        "colab": {
          "base_uri": "https://localhost:8080/"
        },
        "id": "THmSrON5aitH",
        "outputId": "9d96b39e-c4f6-4715-f896-0b167ad507d5"
      },
      "outputs": [
        {
          "output_type": "stream",
          "name": "stdout",
          "text": [
            "An exception occurred.\n"
          ]
        }
      ],
      "source": [
        "try:\n",
        "    # Code that may raise an exception\n",
        "    x = 3 / 0\n",
        "    print(x)\n",
        "except:\n",
        "    # exception occurs, if code under try throws error\n",
        "    print(\"An exception occurred.\")\n"
      ]
    }
  ]
}