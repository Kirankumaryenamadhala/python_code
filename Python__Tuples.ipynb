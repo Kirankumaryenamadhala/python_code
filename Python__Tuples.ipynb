{
  "nbformat": 4,
  "nbformat_minor": 0,
  "metadata": {
    "colab": {
      "provenance": [],
      "authorship_tag": "ABX9TyNMvHqpQw5kyilovEKdCLa4",
      "include_colab_link": true
    },
    "kernelspec": {
      "name": "python3",
      "display_name": "Python 3"
    },
    "language_info": {
      "name": "python"
    }
  },
  "cells": [
    {
      "cell_type": "markdown",
      "metadata": {
        "id": "view-in-github",
        "colab_type": "text"
      },
      "source": [
        "<a href=\"https://colab.research.google.com/github/Kirankumaryenamadhala/python_code/blob/main/Python__Tuples.ipynb\" target=\"_parent\"><img src=\"https://colab.research.google.com/assets/colab-badge.svg\" alt=\"Open In Colab\"/></a>"
      ]
    },
    {
      "cell_type": "code",
      "execution_count": 1,
      "metadata": {
        "colab": {
          "base_uri": "https://localhost:8080/"
        },
        "id": "Szcb_UIFQhS-",
        "outputId": "2f3046f7-555b-4611-bdfa-27637b89f60c"
      },
      "outputs": [
        {
          "output_type": "stream",
          "name": "stdout",
          "text": [
            "()\n",
            "('Geeks', 'For')\n",
            "(1, 2, 4, 5, 6)\n",
            "('G', 'e', 'e', 'k', 's')\n"
          ]
        }
      ],
      "source": [
        "# Creating an empty Tuple\n",
        "tup = ()\n",
        "print(tup)\n",
        "\n",
        "# Using String\n",
        "tup = ('Geeks', 'For')\n",
        "print(tup)\n",
        "\n",
        "# Using List\n",
        "li = [1, 2, 4, 5, 6]\n",
        "print(tuple(li))\n",
        "\n",
        "# Using Built-in Function\n",
        "tup = tuple('Geeks')\n",
        "print(tup)\n"
      ]
    }
  ]
}