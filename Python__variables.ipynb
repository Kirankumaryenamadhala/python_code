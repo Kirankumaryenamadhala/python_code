{
  "nbformat": 4,
  "nbformat_minor": 0,
  "metadata": {
    "colab": {
      "provenance": [],
      "authorship_tag": "ABX9TyObnAO5KfODAaNMZm1QOH7w",
      "include_colab_link": true
    },
    "kernelspec": {
      "name": "python3",
      "display_name": "Python 3"
    },
    "language_info": {
      "name": "python"
    }
  },
  "cells": [
    {
      "cell_type": "markdown",
      "metadata": {
        "id": "view-in-github",
        "colab_type": "text"
      },
      "source": [
        "<a href=\"https://colab.research.google.com/github/Kirankumaryenamadhala/python_code/blob/main/Python__variables.ipynb\" target=\"_parent\"><img src=\"https://colab.research.google.com/assets/colab-badge.svg\" alt=\"Open In Colab\"/></a>"
      ]
    },
    {
      "cell_type": "code",
      "execution_count": 1,
      "metadata": {
        "colab": {
          "base_uri": "https://localhost:8080/"
        },
        "id": "XRHrInBtd0-L",
        "outputId": "ff4d6dc2-1972-4f58-b7d1-aa74c9b7787f"
      },
      "outputs": [
        {
          "output_type": "stream",
          "name": "stdout",
          "text": [
            "5\n",
            "Samantha\n"
          ]
        }
      ],
      "source": [
        "\n",
        "# Variable 'x' stores the integer value 10\n",
        "x = 5\n",
        "\n",
        "# Variable 'name' stores the string \"Samantha\"\n",
        "name = \"Samantha\"\n",
        "\n",
        "print(x)\n",
        "print(name)"
      ]
    }
  ]
}