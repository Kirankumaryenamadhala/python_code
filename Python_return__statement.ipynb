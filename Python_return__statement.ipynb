{
  "nbformat": 4,
  "nbformat_minor": 0,
  "metadata": {
    "colab": {
      "provenance": [],
      "authorship_tag": "ABX9TyO8VZyBTid+yweM06otxKa1",
      "include_colab_link": true
    },
    "kernelspec": {
      "name": "python3",
      "display_name": "Python 3"
    },
    "language_info": {
      "name": "python"
    }
  },
  "cells": [
    {
      "cell_type": "markdown",
      "metadata": {
        "id": "view-in-github",
        "colab_type": "text"
      },
      "source": [
        "<a href=\"https://colab.research.google.com/github/Kirankumaryenamadhala/python_code/blob/main/Python_return__statement.ipynb\" target=\"_parent\"><img src=\"https://colab.research.google.com/assets/colab-badge.svg\" alt=\"Open In Colab\"/></a>"
      ]
    },
    {
      "cell_type": "code",
      "execution_count": 1,
      "metadata": {
        "colab": {
          "base_uri": "https://localhost:8080/"
        },
        "id": "sQQx3_rf_Gz9",
        "outputId": "280f0f83-b8bc-4471-8f9b-f478d0c39d52"
      },
      "outputs": [
        {
          "output_type": "stream",
          "name": "stdout",
          "text": [
            "5\n",
            "True\n"
          ]
        }
      ],
      "source": [
        "def add(a, b):\n",
        "\n",
        "    # returning sum of a and b\n",
        "    return a + b\n",
        "\n",
        "def is_true(a):\n",
        "\n",
        "    # returning boolean of a\n",
        "    return bool(a)\n",
        "\n",
        "# calling function\n",
        "res = add(2, 3)\n",
        "print(res)\n",
        "\n",
        "res = is_true(2<5)\n",
        "print(res)\n"
      ]
    }
  ]
}