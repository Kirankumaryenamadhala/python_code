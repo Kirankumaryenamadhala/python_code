{
  "nbformat": 4,
  "nbformat_minor": 0,
  "metadata": {
    "colab": {
      "provenance": [],
      "authorship_tag": "ABX9TyM1UC7xTMV24jLstLJrb0Y9",
      "include_colab_link": true
    },
    "kernelspec": {
      "name": "python3",
      "display_name": "Python 3"
    },
    "language_info": {
      "name": "python"
    }
  },
  "cells": [
    {
      "cell_type": "markdown",
      "metadata": {
        "id": "view-in-github",
        "colab_type": "text"
      },
      "source": [
        "<a href=\"https://colab.research.google.com/github/Kirankumaryenamadhala/python_code/blob/main/Python_sets.ipynb\" target=\"_parent\"><img src=\"https://colab.research.google.com/assets/colab-badge.svg\" alt=\"Open In Colab\"/></a>"
      ]
    },
    {
      "cell_type": "code",
      "execution_count": 1,
      "metadata": {
        "colab": {
          "base_uri": "https://localhost:8080/"
        },
        "id": "qZSWIvG3M2-V",
        "outputId": "e44abff9-7df2-4ac1-f4a8-f417df46d479"
      },
      "outputs": [
        {
          "output_type": "stream",
          "name": "stdout",
          "text": [
            "set()\n",
            "{'G', 'r', 'o', 's', 'k', 'e', 'F'}\n",
            "{'For', 'Geeks'}\n",
            "{'for', 'Geeks'}\n",
            "{'for', 'Geeks'}\n"
          ]
        }
      ],
      "source": [
        "set1 = set()\n",
        "print(set1)\n",
        "\n",
        "set1 = set(\"GeeksForGeeks\")\n",
        "print(set1)\n",
        "\n",
        "# Creating a Set with the use of a List\n",
        "set1 = set([\"Geeks\", \"For\", \"Geeks\"])\n",
        "print(set1)\n",
        "\n",
        "# Creating a Set with the use of a tuple\n",
        "tup = (\"Geeks\", \"for\", \"Geeks\")\n",
        "print(set(tup))\n",
        "\n",
        "# Creating a Set with the use of a dictionary\n",
        "d = {\"Geeks\": 1, \"for\": 2, \"Geeks\": 3}\n",
        "print(set(d))"
      ]
    }
  ]
}