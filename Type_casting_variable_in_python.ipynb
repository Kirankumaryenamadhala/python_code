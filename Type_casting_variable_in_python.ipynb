{
  "nbformat": 4,
  "nbformat_minor": 0,
  "metadata": {
    "colab": {
      "provenance": [],
      "authorship_tag": "ABX9TyOrK3Ntc+WZz5fuFT9VNWrK",
      "include_colab_link": true
    },
    "kernelspec": {
      "name": "python3",
      "display_name": "Python 3"
    },
    "language_info": {
      "name": "python"
    }
  },
  "cells": [
    {
      "cell_type": "markdown",
      "metadata": {
        "id": "view-in-github",
        "colab_type": "text"
      },
      "source": [
        "<a href=\"https://colab.research.google.com/github/Kirankumaryenamadhala/python_code/blob/main/Type_casting_variable_in_python.ipynb\" target=\"_parent\"><img src=\"https://colab.research.google.com/assets/colab-badge.svg\" alt=\"Open In Colab\"/></a>"
      ]
    },
    {
      "cell_type": "code",
      "execution_count": 1,
      "metadata": {
        "colab": {
          "base_uri": "https://localhost:8080/"
        },
        "id": "u7Gxk9tGiUyB",
        "outputId": "d90f1d1a-5e4f-4f6f-84e8-c63bd28b72cf"
      },
      "outputs": [
        {
          "output_type": "stream",
          "name": "stdout",
          "text": [
            "10\n",
            "5.0\n",
            "25\n"
          ]
        }
      ],
      "source": [
        "# Casting variables\n",
        "s = \"10\"  # Initially a string\n",
        "n = int(s)  # Cast string to integer\n",
        "cnt = 5\n",
        "f = float(cnt)  # Cast integer to float\n",
        "age = 25\n",
        "s2 = str(age)  # Cast integer to string\n",
        "\n",
        "# Display results\n",
        "print(n)\n",
        "print(f)\n",
        "print(s2)"
      ]
    }
  ]
}