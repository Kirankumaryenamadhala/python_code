{
  "nbformat": 4,
  "nbformat_minor": 0,
  "metadata": {
    "colab": {
      "provenance": [],
      "authorship_tag": "ABX9TyMfoZMNiT3bSXI6xly7SHMQ",
      "include_colab_link": true
    },
    "kernelspec": {
      "name": "python3",
      "display_name": "Python 3"
    },
    "language_info": {
      "name": "python"
    }
  },
  "cells": [
    {
      "cell_type": "markdown",
      "metadata": {
        "id": "view-in-github",
        "colab_type": "text"
      },
      "source": [
        "<a href=\"https://colab.research.google.com/github/Kirankumaryenamadhala/python_code/blob/main/Using__the__set()_function.ipynb\" target=\"_parent\"><img src=\"https://colab.research.google.com/assets/colab-badge.svg\" alt=\"Open In Colab\"/></a>"
      ]
    },
    {
      "cell_type": "code",
      "execution_count": 1,
      "metadata": {
        "colab": {
          "base_uri": "https://localhost:8080/"
        },
        "id": "WuOASBpdyfdX",
        "outputId": "6e09c09b-8d09-40e9-e7e7-84beb2aa7d87"
      },
      "outputs": [
        {
          "output_type": "stream",
          "name": "stdout",
          "text": [
            "set()\n",
            "{'F', 'r', 'o', 'G', 'e', 'k', 's'}\n",
            "{'For', 'Geeks'}\n",
            "{'for', 'Geeks'}\n",
            "{'for', 'Geeks'}\n"
          ]
        }
      ],
      "source": [
        "# Creating a Set\n",
        "set1 = set()\n",
        "print(set1)\n",
        "\n",
        "set1 = set(\"GeeksForGeeks\")\n",
        "print(set1)\n",
        "\n",
        "# Creating a Set with the use of a List\n",
        "set1 = set([\"Geeks\", \"For\", \"Geeks\"])\n",
        "print(set1)\n",
        "\n",
        "# Creating a Set with the use of a tuple\n",
        "tup = (\"Geeks\", \"for\", \"Geeks\")\n",
        "print(set(tup))\n",
        "\n",
        "# Creating a Set with the use of a dictionary\n",
        "d = {\"Geeks\": 1, \"for\": 2, \"Geeks\": 3}\n",
        "print(set(d))\n"
      ]
    }
  ]
}