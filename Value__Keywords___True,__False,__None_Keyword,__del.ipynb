{
  "nbformat": 4,
  "nbformat_minor": 0,
  "metadata": {
    "colab": {
      "provenance": [],
      "authorship_tag": "ABX9TyPi1zH0Q+3XbiBOaY21BiXJ",
      "include_colab_link": true
    },
    "kernelspec": {
      "name": "python3",
      "display_name": "Python 3"
    },
    "language_info": {
      "name": "python"
    }
  },
  "cells": [
    {
      "cell_type": "markdown",
      "metadata": {
        "id": "view-in-github",
        "colab_type": "text"
      },
      "source": [
        "<a href=\"https://colab.research.google.com/github/Kirankumaryenamadhala/python_code/blob/main/Value__Keywords___True%2C__False%2C__None_Keyword%2C__del.ipynb\" target=\"_parent\"><img src=\"https://colab.research.google.com/assets/colab-badge.svg\" alt=\"Open In Colab\"/></a>"
      ]
    },
    {
      "cell_type": "code",
      "execution_count": 1,
      "metadata": {
        "colab": {
          "base_uri": "https://localhost:8080/"
        },
        "id": "ZxoGS7sDYDaD",
        "outputId": "e12eb4bf-e476-496e-c01c-82a53fb927a2"
      },
      "outputs": [
        {
          "output_type": "stream",
          "name": "stdout",
          "text": [
            "True\n",
            "True\n",
            "3\n",
            "1\n",
            "False\n",
            "False\n"
          ]
        }
      ],
      "source": [
        "print(False == 0)\n",
        "print(True == 1)\n",
        "\n",
        "# True + True + True is  3\n",
        "print(True + True + True)\n",
        "\n",
        "# True + False + False is  1\n",
        "print(True + False + False)\n",
        "\n",
        "# None isn't equal to  0  or an empty list []\n",
        "print(None == 0)\n",
        "print(None == [])\n"
      ]
    }
  ]
}