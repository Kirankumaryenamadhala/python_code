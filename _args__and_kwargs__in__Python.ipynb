{
  "nbformat": 4,
  "nbformat_minor": 0,
  "metadata": {
    "colab": {
      "provenance": [],
      "authorship_tag": "ABX9TyMsaweTP6lA+SwuzCnQMdI1",
      "include_colab_link": true
    },
    "kernelspec": {
      "name": "python3",
      "display_name": "Python 3"
    },
    "language_info": {
      "name": "python"
    }
  },
  "cells": [
    {
      "cell_type": "markdown",
      "metadata": {
        "id": "view-in-github",
        "colab_type": "text"
      },
      "source": [
        "<a href=\"https://colab.research.google.com/github/Kirankumaryenamadhala/python_code/blob/main/_args__and_kwargs__in__Python.ipynb\" target=\"_parent\"><img src=\"https://colab.research.google.com/assets/colab-badge.svg\" alt=\"Open In Colab\"/></a>"
      ]
    },
    {
      "cell_type": "code",
      "execution_count": 1,
      "metadata": {
        "colab": {
          "base_uri": "https://localhost:8080/"
        },
        "id": "GCuCMHhIhWvq",
        "outputId": "fac4e105-8d67-41ee-96cc-b9eb62b1df39"
      },
      "outputs": [
        {
          "output_type": "stream",
          "name": "stdout",
          "text": [
            "10\n",
            "30\n",
            "a 1\n",
            "b 2\n",
            "c 3\n"
          ]
        }
      ],
      "source": [
        "# *args example\n",
        "def fun(*args):\n",
        "    return sum(args)\n",
        "\n",
        "print(fun(1, 2, 3, 4))\n",
        "print(fun(5, 10, 15))\n",
        "\n",
        "# **kwargs example\n",
        "def fun(**kwargs):\n",
        "    for k, val in kwargs.items():\n",
        "        print(k, val)\n",
        "\n",
        "fun(a=1, b=2, c=3)\n"
      ]
    }
  ]
}